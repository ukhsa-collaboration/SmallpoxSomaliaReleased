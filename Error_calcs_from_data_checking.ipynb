{
 "cells": [
  {
   "cell_type": "markdown",
   "metadata": {},
   "source": [
    "# Error checking calcs\n",
    "\n",
    "Hannah and Joe both checked 10% of lines from data."
   ]
  },
  {
   "cell_type": "code",
   "execution_count": null,
   "metadata": {
    "vscode": {
     "languageId": "r"
    }
   },
   "outputs": [],
   "source": [
    "# setwd(\"ORIGINAL PATH REMOVED\")\n",
    "library(compare)"
   ]
  },
  {
   "cell_type": "code",
   "execution_count": null,
   "metadata": {
    "vscode": {
     "languageId": "r"
    }
   },
   "outputs": [],
   "source": [
    "# Percentages of change\n",
    "precheck_data <- read.csv(file='backup_csv_sampled_before_error_checking/full_data_beforecheck_forcomparisontoupdated.csv', \n",
    "                            header=TRUE, stringsAsFactors=FALSE, row.names=1)\n",
    "hw <- read.csv(file='backup_csv_sampled_before_error_checking/sample_lines_to_check.csv', \n",
    "                            header=TRUE, stringsAsFactors=FALSE, row.names=1)\n",
    "js <- read.csv(file='backup_csv_sampled_before_error_checking/sample_lines_reviewer_to_check.csv', \n",
    "                            header=TRUE, stringsAsFactors=FALSE, row.names=1)\n",
    "current_data <- read.csv(file='Data/somalia_all_data_2020.csv', header=TRUE, stringsAsFactors=FALSE)\n",
    "colnames(current_data)[1] <- 'Nat.case.ser.no'\n"
   ]
  },
  {
   "cell_type": "code",
   "execution_count": 35,
   "metadata": {
    "vscode": {
     "languageId": "r"
    }
   },
   "outputs": [
    {
     "data": {
      "text/html": [
       "<table>\n",
       "<caption>A data.frame: 6 × 13</caption>\n",
       "<thead>\n",
       "\t<tr><th scope=col>Nat.case.ser.no</th><th scope=col>Age</th><th scope=col>Sex</th><th scope=col>Date.onset.rash</th><th scope=col>Date.detected</th><th scope=col>Village</th><th scope=col>District</th><th scope=col>Region</th><th scope=col>National.outbreak.Number</th><th scope=col>Reg.outbreak.no</th><th scope=col>Adobe.page.ref</th><th scope=col>Comment</th><th scope=col>Corresponding.Outbreak.Info.page.number</th></tr>\n",
       "\t<tr><th scope=col>&lt;int&gt;</th><th scope=col>&lt;int&gt;</th><th scope=col>&lt;chr&gt;</th><th scope=col>&lt;chr&gt;</th><th scope=col>&lt;chr&gt;</th><th scope=col>&lt;chr&gt;</th><th scope=col>&lt;chr&gt;</th><th scope=col>&lt;chr&gt;</th><th scope=col>&lt;int&gt;</th><th scope=col>&lt;int&gt;</th><th scope=col>&lt;int&gt;</th><th scope=col>&lt;chr&gt;</th><th scope=col>&lt;int&gt;</th></tr>\n",
       "</thead>\n",
       "<tbody>\n",
       "\t<tr><td>   1</td><td>70</td><td>F</td><td>1976-08-30</td><td>NA</td><td>          </td><td>      </td><td>Mogadishu (Banaadir)</td><td> 1</td><td>NA</td><td>226</td><td>            </td><td>NA</td></tr>\n",
       "\t<tr><td>  10</td><td> 6</td><td>F</td><td>1976-10-12</td><td>NA</td><td>          </td><td>      </td><td>Mogadishu (Banaadir)</td><td> 1</td><td>NA</td><td>226</td><td>            </td><td>NA</td></tr>\n",
       "\t<tr><td>1060</td><td>12</td><td>F</td><td>1977-04-01</td><td>NA</td><td>Bula Badid</td><td>Baidoa</td><td>Bay                 </td><td>NA</td><td>29</td><td>156</td><td>            </td><td>NA</td></tr>\n",
       "\t<tr><td>  11</td><td>15</td><td>F</td><td>1976-10-06</td><td>NA</td><td>          </td><td>      </td><td>Mogadishu (Banaadir)</td><td> 1</td><td>NA</td><td>226</td><td>            </td><td>NA</td></tr>\n",
       "\t<tr><td> 119</td><td>NA</td><td> </td><td>NA        </td><td>NA</td><td>          </td><td>      </td><td>                    </td><td>NA</td><td>NA</td><td>219</td><td>NOT SMALLPOX</td><td>NA</td></tr>\n",
       "\t<tr><td>1191</td><td>NA</td><td> </td><td>NA        </td><td>NA</td><td>          </td><td>      </td><td>                    </td><td>NA</td><td>NA</td><td>148</td><td>            </td><td>NA</td></tr>\n",
       "</tbody>\n",
       "</table>\n"
      ],
      "text/latex": [
       "A data.frame: 6 × 13\n",
       "\\begin{tabular}{r|lllllllllllll}\n",
       " Nat.case.ser.no & Age & Sex & Date.onset.rash & Date.detected & Village & District & Region & National.outbreak.Number & Reg.outbreak.no & Adobe.page.ref & Comment & Corresponding.Outbreak.Info.page.number\\\\\n",
       " <int> & <int> & <chr> & <chr> & <chr> & <chr> & <chr> & <chr> & <int> & <int> & <int> & <chr> & <int>\\\\\n",
       "\\hline\n",
       "\t    1 & 70 & F & 1976-08-30 & NA &            &        & Mogadishu (Banaadir) &  1 & NA & 226 &              & NA\\\\\n",
       "\t   10 &  6 & F & 1976-10-12 & NA &            &        & Mogadishu (Banaadir) &  1 & NA & 226 &              & NA\\\\\n",
       "\t 1060 & 12 & F & 1977-04-01 & NA & Bula Badid & Baidoa & Bay                  & NA & 29 & 156 &              & NA\\\\\n",
       "\t   11 & 15 & F & 1976-10-06 & NA &            &        & Mogadishu (Banaadir) &  1 & NA & 226 &              & NA\\\\\n",
       "\t  119 & NA &   & NA         & NA &            &        &                      & NA & NA & 219 & NOT SMALLPOX & NA\\\\\n",
       "\t 1191 & NA &   & NA         & NA &            &        &                      & NA & NA & 148 &              & NA\\\\\n",
       "\\end{tabular}\n"
      ],
      "text/markdown": [
       "\n",
       "A data.frame: 6 × 13\n",
       "\n",
       "| Nat.case.ser.no &lt;int&gt; | Age &lt;int&gt; | Sex &lt;chr&gt; | Date.onset.rash &lt;chr&gt; | Date.detected &lt;chr&gt; | Village &lt;chr&gt; | District &lt;chr&gt; | Region &lt;chr&gt; | National.outbreak.Number &lt;int&gt; | Reg.outbreak.no &lt;int&gt; | Adobe.page.ref &lt;int&gt; | Comment &lt;chr&gt; | Corresponding.Outbreak.Info.page.number &lt;int&gt; |\n",
       "|---|---|---|---|---|---|---|---|---|---|---|---|---|\n",
       "|    1 | 70 | F | 1976-08-30 | NA | <!----> | <!----> | Mogadishu (Banaadir) |  1 | NA | 226 | <!----> | NA |\n",
       "|   10 |  6 | F | 1976-10-12 | NA | <!----> | <!----> | Mogadishu (Banaadir) |  1 | NA | 226 | <!----> | NA |\n",
       "| 1060 | 12 | F | 1977-04-01 | NA | Bula Badid | Baidoa | Bay                  | NA | 29 | 156 | <!----> | NA |\n",
       "|   11 | 15 | F | 1976-10-06 | NA | <!----> | <!----> | Mogadishu (Banaadir) |  1 | NA | 226 | <!----> | NA |\n",
       "|  119 | NA | <!----> | NA         | NA | <!----> | <!----> | <!----> | NA | NA | 219 | NOT SMALLPOX | NA |\n",
       "| 1191 | NA | <!----> | NA         | NA | <!----> | <!----> | <!----> | NA | NA | 148 | <!----> | NA |\n",
       "\n"
      ],
      "text/plain": [
       "  Nat.case.ser.no Age Sex Date.onset.rash Date.detected Village    District\n",
       "1    1            70  F   1976-08-30      NA                               \n",
       "2   10             6  F   1976-10-12      NA                               \n",
       "3 1060            12  F   1977-04-01      NA            Bula Badid Baidoa  \n",
       "4   11            15  F   1976-10-06      NA                               \n",
       "5  119            NA      NA              NA                               \n",
       "6 1191            NA      NA              NA                               \n",
       "  Region               National.outbreak.Number Reg.outbreak.no Adobe.page.ref\n",
       "1 Mogadishu (Banaadir)  1                       NA              226           \n",
       "2 Mogadishu (Banaadir)  1                       NA              226           \n",
       "3 Bay                  NA                       29              156           \n",
       "4 Mogadishu (Banaadir)  1                       NA              226           \n",
       "5                      NA                       NA              219           \n",
       "6                      NA                       NA              148           \n",
       "  Comment      Corresponding.Outbreak.Info.page.number\n",
       "1              NA                                     \n",
       "2              NA                                     \n",
       "3              NA                                     \n",
       "4              NA                                     \n",
       "5 NOT SMALLPOX NA                                     \n",
       "6              NA                                     "
      ]
     },
     "metadata": {},
     "output_type": "display_data"
    },
    {
     "data": {
      "text/html": [
       "<table>\n",
       "<caption>A data.frame: 6 × 13</caption>\n",
       "<thead>\n",
       "\t<tr><th></th><th scope=col>Nat.case.ser.no</th><th scope=col>Age</th><th scope=col>Sex</th><th scope=col>Date.onset.rash</th><th scope=col>Date.detected</th><th scope=col>Village</th><th scope=col>District</th><th scope=col>Region</th><th scope=col>National.outbreak.Number</th><th scope=col>Reg.outbreak.no</th><th scope=col>Adobe.page.ref</th><th scope=col>Comment</th><th scope=col>Corresponding.Outbreak.Info.page.number</th></tr>\n",
       "\t<tr><th></th><th scope=col>&lt;int&gt;</th><th scope=col>&lt;int&gt;</th><th scope=col>&lt;chr&gt;</th><th scope=col>&lt;chr&gt;</th><th scope=col>&lt;chr&gt;</th><th scope=col>&lt;chr&gt;</th><th scope=col>&lt;chr&gt;</th><th scope=col>&lt;chr&gt;</th><th scope=col>&lt;int&gt;</th><th scope=col>&lt;int&gt;</th><th scope=col>&lt;int&gt;</th><th scope=col>&lt;chr&gt;</th><th scope=col>&lt;int&gt;</th></tr>\n",
       "</thead>\n",
       "<tbody>\n",
       "\t<tr><th scope=row>2869</th><td> 652</td><td>14</td><td>M</td><td>1977-04-01</td><td>1977-05-25</td><td>Duboy      </td><td>Kansadere</td><td>Bay   </td><td>199</td><td>78</td><td>183</td><td></td><td>NA</td></tr>\n",
       "\t<tr><th scope=row>10</th><td>1004</td><td>70</td><td>M</td><td>1977-05-25</td><td>1977-05-31</td><td>Gubey      </td><td>Wajid    </td><td>Bakool</td><td>308</td><td>39</td><td>160</td><td></td><td>NA</td></tr>\n",
       "\t<tr><th scope=row>941</th><td>1845</td><td>22</td><td>M</td><td>1977-04-09</td><td>1977-06-19</td><td>Bilakey (2)</td><td>Wajid    </td><td>Bakool</td><td>547</td><td>20</td><td>100</td><td></td><td>NA</td></tr>\n",
       "\t<tr><th scope=row>334</th><td>1297</td><td> 3</td><td>M</td><td>1977-04-15</td><td>1977-06-13</td><td>Mundul Jall</td><td>Bardere  </td><td>Gedo  </td><td> NA</td><td> 7</td><td>140</td><td></td><td>NA</td></tr>\n",
       "\t<tr><th scope=row>2660</th><td> 464</td><td>48</td><td>F</td><td>1977-05-08</td><td>1977-05-09</td><td>Warurie    </td><td>Baidoa   </td><td>Bay   </td><td> 73</td><td>31</td><td>196</td><td></td><td>NA</td></tr>\n",
       "\t<tr><th scope=row>1340</th><td>2205</td><td>NA</td><td> </td><td>NA        </td><td>NA        </td><td>Mora Garad </td><td>Huddum   </td><td>Bakool</td><td> NA</td><td>NA</td><td> 75</td><td></td><td>NA</td></tr>\n",
       "</tbody>\n",
       "</table>\n"
      ],
      "text/latex": [
       "A data.frame: 6 × 13\n",
       "\\begin{tabular}{r|lllllllllllll}\n",
       "  & Nat.case.ser.no & Age & Sex & Date.onset.rash & Date.detected & Village & District & Region & National.outbreak.Number & Reg.outbreak.no & Adobe.page.ref & Comment & Corresponding.Outbreak.Info.page.number\\\\\n",
       "  & <int> & <int> & <chr> & <chr> & <chr> & <chr> & <chr> & <chr> & <int> & <int> & <int> & <chr> & <int>\\\\\n",
       "\\hline\n",
       "\t2869 &  652 & 14 & M & 1977-04-01 & 1977-05-25 & Duboy       & Kansadere & Bay    & 199 & 78 & 183 &  & NA\\\\\n",
       "\t10 & 1004 & 70 & M & 1977-05-25 & 1977-05-31 & Gubey       & Wajid     & Bakool & 308 & 39 & 160 &  & NA\\\\\n",
       "\t941 & 1845 & 22 & M & 1977-04-09 & 1977-06-19 & Bilakey (2) & Wajid     & Bakool & 547 & 20 & 100 &  & NA\\\\\n",
       "\t334 & 1297 &  3 & M & 1977-04-15 & 1977-06-13 & Mundul Jall & Bardere   & Gedo   &  NA &  7 & 140 &  & NA\\\\\n",
       "\t2660 &  464 & 48 & F & 1977-05-08 & 1977-05-09 & Warurie     & Baidoa    & Bay    &  73 & 31 & 196 &  & NA\\\\\n",
       "\t1340 & 2205 & NA &   & NA         & NA         & Mora Garad  & Huddum    & Bakool &  NA & NA &  75 &  & NA\\\\\n",
       "\\end{tabular}\n"
      ],
      "text/markdown": [
       "\n",
       "A data.frame: 6 × 13\n",
       "\n",
       "| <!--/--> | Nat.case.ser.no &lt;int&gt; | Age &lt;int&gt; | Sex &lt;chr&gt; | Date.onset.rash &lt;chr&gt; | Date.detected &lt;chr&gt; | Village &lt;chr&gt; | District &lt;chr&gt; | Region &lt;chr&gt; | National.outbreak.Number &lt;int&gt; | Reg.outbreak.no &lt;int&gt; | Adobe.page.ref &lt;int&gt; | Comment &lt;chr&gt; | Corresponding.Outbreak.Info.page.number &lt;int&gt; |\n",
       "|---|---|---|---|---|---|---|---|---|---|---|---|---|---|\n",
       "| 2869 |  652 | 14 | M | 1977-04-01 | 1977-05-25 | Duboy       | Kansadere | Bay    | 199 | 78 | 183 | <!----> | NA |\n",
       "| 10 | 1004 | 70 | M | 1977-05-25 | 1977-05-31 | Gubey       | Wajid     | Bakool | 308 | 39 | 160 | <!----> | NA |\n",
       "| 941 | 1845 | 22 | M | 1977-04-09 | 1977-06-19 | Bilakey (2) | Wajid     | Bakool | 547 | 20 | 100 | <!----> | NA |\n",
       "| 334 | 1297 |  3 | M | 1977-04-15 | 1977-06-13 | Mundul Jall | Bardere   | Gedo   |  NA |  7 | 140 | <!----> | NA |\n",
       "| 2660 |  464 | 48 | F | 1977-05-08 | 1977-05-09 | Warurie     | Baidoa    | Bay    |  73 | 31 | 196 | <!----> | NA |\n",
       "| 1340 | 2205 | NA | <!----> | NA         | NA         | Mora Garad  | Huddum    | Bakool |  NA | NA |  75 | <!----> | NA |\n",
       "\n"
      ],
      "text/plain": [
       "     Nat.case.ser.no Age Sex Date.onset.rash Date.detected Village    \n",
       "2869  652            14  M   1977-04-01      1977-05-25    Duboy      \n",
       "10   1004            70  M   1977-05-25      1977-05-31    Gubey      \n",
       "941  1845            22  M   1977-04-09      1977-06-19    Bilakey (2)\n",
       "334  1297             3  M   1977-04-15      1977-06-13    Mundul Jall\n",
       "2660  464            48  F   1977-05-08      1977-05-09    Warurie    \n",
       "1340 2205            NA      NA              NA            Mora Garad \n",
       "     District  Region National.outbreak.Number Reg.outbreak.no Adobe.page.ref\n",
       "2869 Kansadere Bay    199                      78              183           \n",
       "10   Wajid     Bakool 308                      39              160           \n",
       "941  Wajid     Bakool 547                      20              100           \n",
       "334  Bardere   Gedo    NA                       7              140           \n",
       "2660 Baidoa    Bay     73                      31              196           \n",
       "1340 Huddum    Bakool  NA                      NA               75           \n",
       "     Comment Corresponding.Outbreak.Info.page.number\n",
       "2869         NA                                     \n",
       "10           NA                                     \n",
       "941          NA                                     \n",
       "334          NA                                     \n",
       "2660         NA                                     \n",
       "1340         NA                                     "
      ]
     },
     "metadata": {},
     "output_type": "display_data"
    }
   ],
   "source": [
    "head(current_data)\n",
    "head(hw)"
   ]
  },
  {
   "cell_type": "code",
   "execution_count": 36,
   "metadata": {
    "vscode": {
     "languageId": "r"
    }
   },
   "outputs": [
    {
     "data": {
      "text/html": [
       "<ol class=list-inline>\n",
       "\t<li>326</li>\n",
       "\t<li>13</li>\n",
       "</ol>\n"
      ],
      "text/latex": [
       "\\begin{enumerate*}\n",
       "\\item 326\n",
       "\\item 13\n",
       "\\end{enumerate*}\n"
      ],
      "text/markdown": [
       "1. 326\n",
       "2. 13\n",
       "\n",
       "\n"
      ],
      "text/plain": [
       "[1] 326  13"
      ]
     },
     "metadata": {},
     "output_type": "display_data"
    },
    {
     "data": {
      "text/html": [
       "<ol class=list-inline>\n",
       "\t<li>326</li>\n",
       "\t<li>13</li>\n",
       "</ol>\n"
      ],
      "text/latex": [
       "\\begin{enumerate*}\n",
       "\\item 326\n",
       "\\item 13\n",
       "\\end{enumerate*}\n"
      ],
      "text/markdown": [
       "1. 326\n",
       "2. 13\n",
       "\n",
       "\n"
      ],
      "text/plain": [
       "[1] 326  13"
      ]
     },
     "metadata": {},
     "output_type": "display_data"
    },
    {
     "data": {
      "text/html": [
       "<ol class=list-inline>\n",
       "\t<li>3253</li>\n",
       "\t<li>13</li>\n",
       "</ol>\n"
      ],
      "text/latex": [
       "\\begin{enumerate*}\n",
       "\\item 3253\n",
       "\\item 13\n",
       "\\end{enumerate*}\n"
      ],
      "text/markdown": [
       "1. 3253\n",
       "2. 13\n",
       "\n",
       "\n"
      ],
      "text/plain": [
       "[1] 3253   13"
      ]
     },
     "metadata": {},
     "output_type": "display_data"
    },
    {
     "data": {
      "text/html": [
       "<ol class=list-inline>\n",
       "\t<li>3253</li>\n",
       "\t<li>13</li>\n",
       "</ol>\n"
      ],
      "text/latex": [
       "\\begin{enumerate*}\n",
       "\\item 3253\n",
       "\\item 13\n",
       "\\end{enumerate*}\n"
      ],
      "text/markdown": [
       "1. 3253\n",
       "2. 13\n",
       "\n",
       "\n"
      ],
      "text/plain": [
       "[1] 3253   13"
      ]
     },
     "metadata": {},
     "output_type": "display_data"
    }
   ],
   "source": [
    "# hw and js should be exact copies of 20% of sample_precheck\n",
    "dim(hw)\n",
    "dim(js)\n",
    "dim(precheck_data)\n",
    "dim(current_data)"
   ]
  },
  {
   "cell_type": "code",
   "execution_count": 136,
   "metadata": {
    "vscode": {
     "languageId": "r"
    }
   },
   "outputs": [],
   "source": [
    "error_rate <- function(pre_sample_df, cur_full_df){\n",
    "    # extract subset of full_db using Nat.case.ser.no from sample_db\n",
    "    subset_df <- cur_full_df[cur_full_df$Nat.case.ser.no %in% pre_sample_df$Nat.case.ser.no,]\n",
    "    # rearrange dataframe by Nat.case.ser.no\n",
    "    subset_df <- subset_df[order(subset_df$Nat.case.ser.no),]\n",
    "    pre_sample_df <- pre_sample_df[order(pre_sample_df$Nat.case.ser.no),]\n",
    "    # if Nat.case.ser.no do not match, then there is an error somewhere \n",
    "    # case numbers may have been corrected in the cleaning\n",
    "    if (!all(pre_sample_df$Nat.case.ser.no == subset_df$Nat.case.ser.no)) {\n",
    "        print('Ordered Nat.case.ser.no lists do not match')\n",
    "    }\n",
    "    # convert NA to -1 to allow comparison\n",
    "    subset_df[is.na(subset_df)] <- -1\n",
    "    pre_sample_df[is.na(pre_sample_df)] <- -1\n",
    "    # test for equality\n",
    "    comparison <- subset_df == pre_sample_df\n",
    "    # count errors \n",
    "    tf <- table(comparison)\n",
    "    tf_1to8 <- table(comparison[,-(9:13)])\n",
    "    # total error percentage\n",
    "    print(paste('total error %:', tf[[1]]/(tf[[1]]+tf[[2]])*100))\n",
    "    print(paste('error for cols 1 to 8 %:', tf_1to8[[1]]/(tf_1to8[[1]]+tf_1to8[[2]])*100))\n",
    "    # number of lines containing errors\n",
    "    print(paste(sum(rowSums(1-comparison)!=0), 'lines out of', length(rowSums(1-comparison)), 'contain errors'))\n",
    "    print('number of errors per column')\n",
    "    print(colSums(1-comparison))\n",
    "    return (comparison)\n",
    "}"
   ]
  },
  {
   "cell_type": "code",
   "execution_count": 137,
   "metadata": {
    "vscode": {
     "languageId": "r"
    }
   },
   "outputs": [
    {
     "name": "stdout",
     "output_type": "stream",
     "text": [
      "[1] \"total error %: 1.76970268994809\"\n",
      "[1] \"error for cols 1 to 8 %: 1.57208588957055\"\n",
      "[1] \"61 lines out of 326 contain errors\"\n",
      "[1] \"number of errors per column\"\n",
      "                        Nat.case.ser.no                                     Age \n",
      "                                      0                                      10 \n",
      "                                    Sex                         Date.onset.rash \n",
      "                                      1                                      17 \n",
      "                          Date.detected                                 Village \n",
      "                                     11                                       2 \n",
      "                               District                                  Region \n",
      "                                      0                                       0 \n",
      "               National.outbreak.Number                         Reg.outbreak.no \n",
      "                                     20                                       9 \n",
      "                         Adobe.page.ref                                 Comment \n",
      "                                      5                                       0 \n",
      "Corresponding.Outbreak.Info.page.number \n",
      "                                      0 \n"
     ]
    }
   ],
   "source": [
    "hw_comp <- error_rate(hw, current_data)"
   ]
  },
  {
   "cell_type": "code",
   "execution_count": 138,
   "metadata": {
    "vscode": {
     "languageId": "r"
    }
   },
   "outputs": [
    {
     "name": "stdout",
     "output_type": "stream",
     "text": [
      "[1] \"total error %: 1.27418593676262\"\n",
      "[1] \"error for cols 1 to 8 %: 1.3420245398773\"\n",
      "[1] \"42 lines out of 326 contain errors\"\n",
      "[1] \"number of errors per column\"\n",
      "                        Nat.case.ser.no                                     Age \n",
      "                                      0                                       5 \n",
      "                                    Sex                         Date.onset.rash \n",
      "                                      1                                       8 \n",
      "                          Date.detected                                 Village \n",
      "                                     12                                       5 \n",
      "                               District                                  Region \n",
      "                                      2                                       2 \n",
      "               National.outbreak.Number                         Reg.outbreak.no \n",
      "                                      6                                       9 \n",
      "                         Adobe.page.ref                                 Comment \n",
      "                                      3                                       1 \n",
      "Corresponding.Outbreak.Info.page.number \n",
      "                                      0 \n"
     ]
    }
   ],
   "source": [
    "js_comp <- error_rate(js, current_data)"
   ]
  },
  {
   "cell_type": "code",
   "execution_count": null,
   "metadata": {
    "vscode": {
     "languageId": "r"
    }
   },
   "outputs": [],
   "source": []
  }
 ],
 "metadata": {
  "kernelspec": {
   "display_name": "R",
   "language": "R",
   "name": "ir"
  },
  "language_info": {
   "codemirror_mode": "r",
   "file_extension": ".r",
   "mimetype": "text/x-r-source",
   "name": "R",
   "pygments_lexer": "r",
   "version": "3.6.1"
  }
 },
 "nbformat": 4,
 "nbformat_minor": 2
}
