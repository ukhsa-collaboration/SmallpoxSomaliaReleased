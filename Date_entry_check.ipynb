{
 "cells": [
  {
   "cell_type": "markdown",
   "metadata": {},
   "source": [
    "# Data entry check - Hannah\n",
    "\n"
   ]
  },
  {
   "cell_type": "code",
   "execution_count": null,
   "metadata": {
    "vscode": {
     "languageId": "r"
    }
   },
   "outputs": [
    {
     "data": {
      "text/html": [
       "<table>\n",
       "<caption>A data.frame: 6 × 13</caption>\n",
       "<thead>\n",
       "\t<tr><th scope=col>Nat.case.ser.no</th><th scope=col>Age</th><th scope=col>Sex</th><th scope=col>Date.onset.rash</th><th scope=col>Date.detected</th><th scope=col>Village</th><th scope=col>District</th><th scope=col>Region</th><th scope=col>National.outbreak.Number</th><th scope=col>Reg.outbreak.no</th><th scope=col>Adobe.page.ref</th><th scope=col>Comment</th><th scope=col>Corresponding.Outbreak.Info.page.number</th></tr>\n",
       "\t<tr><th scope=col>&lt;int&gt;</th><th scope=col>&lt;int&gt;</th><th scope=col>&lt;chr&gt;</th><th scope=col>&lt;chr&gt;</th><th scope=col>&lt;chr&gt;</th><th scope=col>&lt;chr&gt;</th><th scope=col>&lt;chr&gt;</th><th scope=col>&lt;chr&gt;</th><th scope=col>&lt;int&gt;</th><th scope=col>&lt;int&gt;</th><th scope=col>&lt;int&gt;</th><th scope=col>&lt;chr&gt;</th><th scope=col>&lt;int&gt;</th></tr>\n",
       "</thead>\n",
       "<tbody>\n",
       "\t<tr><td>  NA</td><td> 6</td><td>F</td><td>1977-09-02</td><td>1977-09-28</td><td>Agalsar </td><td>Koryole</td><td>Lower Shabelle      </td><td> NA</td><td> 76</td><td>  6</td><td></td><td>NA</td></tr>\n",
       "\t<tr><td>   1</td><td>70</td><td>F</td><td>1976-08-30</td><td>NA        </td><td>        </td><td>       </td><td>Mogadishu (Banaadir)</td><td>  1</td><td> NA</td><td>226</td><td></td><td>NA</td></tr>\n",
       "\t<tr><td>  10</td><td> 6</td><td>F</td><td>1976-10-12</td><td>NA        </td><td>        </td><td>       </td><td>Mogadishu (Banaadir)</td><td>  1</td><td> NA</td><td>226</td><td></td><td>NA</td></tr>\n",
       "\t<tr><td> 100</td><td> 3</td><td>M</td><td>1977-04-06</td><td>1977-04-20</td><td>Bada    </td><td>Baidoa </td><td>Bay                 </td><td> 30</td><td> NA</td><td>220</td><td></td><td>NA</td></tr>\n",
       "\t<tr><td>1000</td><td>13</td><td>F</td><td>1977-05-15</td><td>1977-05-27</td><td>Warmalin</td><td>Baidoa </td><td>Bay                 </td><td>308</td><td>137</td><td>160</td><td></td><td>NA</td></tr>\n",
       "\t<tr><td>1001</td><td> 5</td><td>F</td><td>1977-05-24</td><td>1977-05-28</td><td>Madabey </td><td>Wajid  </td><td>Bakool              </td><td>309</td><td> 38</td><td>160</td><td></td><td>NA</td></tr>\n",
       "</tbody>\n",
       "</table>\n"
      ],
      "text/latex": [
       "A data.frame: 6 × 13\n",
       "\\begin{tabular}{r|lllllllllllll}\n",
       " Nat.case.ser.no & Age & Sex & Date.onset.rash & Date.detected & Village & District & Region & National.outbreak.Number & Reg.outbreak.no & Adobe.page.ref & Comment & Corresponding.Outbreak.Info.page.number\\\\\n",
       " <int> & <int> & <chr> & <chr> & <chr> & <chr> & <chr> & <chr> & <int> & <int> & <int> & <chr> & <int>\\\\\n",
       "\\hline\n",
       "\t   NA &  6 & F & 1977-09-02 & 1977-09-28 & Agalsar  & Koryole & Lower Shabelle       &  NA &  76 &   6 &  & NA\\\\\n",
       "\t    1 & 70 & F & 1976-08-30 & NA         &          &         & Mogadishu (Banaadir) &   1 &  NA & 226 &  & NA\\\\\n",
       "\t   10 &  6 & F & 1976-10-12 & NA         &          &         & Mogadishu (Banaadir) &   1 &  NA & 226 &  & NA\\\\\n",
       "\t  100 &  3 & M & 1977-04-06 & 1977-04-20 & Bada     & Baidoa  & Bay                  &  30 &  NA & 220 &  & NA\\\\\n",
       "\t 1000 & 13 & F & 1977-05-15 & 1977-05-27 & Warmalin & Baidoa  & Bay                  & 308 & 137 & 160 &  & NA\\\\\n",
       "\t 1001 &  5 & F & 1977-05-24 & 1977-05-28 & Madabey  & Wajid   & Bakool               & 309 &  38 & 160 &  & NA\\\\\n",
       "\\end{tabular}\n"
      ],
      "text/markdown": [
       "\n",
       "A data.frame: 6 × 13\n",
       "\n",
       "| Nat.case.ser.no &lt;int&gt; | Age &lt;int&gt; | Sex &lt;chr&gt; | Date.onset.rash &lt;chr&gt; | Date.detected &lt;chr&gt; | Village &lt;chr&gt; | District &lt;chr&gt; | Region &lt;chr&gt; | National.outbreak.Number &lt;int&gt; | Reg.outbreak.no &lt;int&gt; | Adobe.page.ref &lt;int&gt; | Comment &lt;chr&gt; | Corresponding.Outbreak.Info.page.number &lt;int&gt; |\n",
       "|---|---|---|---|---|---|---|---|---|---|---|---|---|\n",
       "|   NA |  6 | F | 1977-09-02 | 1977-09-28 | Agalsar  | Koryole | Lower Shabelle       |  NA |  76 |   6 | <!----> | NA |\n",
       "|    1 | 70 | F | 1976-08-30 | NA         | <!----> | <!----> | Mogadishu (Banaadir) |   1 |  NA | 226 | <!----> | NA |\n",
       "|   10 |  6 | F | 1976-10-12 | NA         | <!----> | <!----> | Mogadishu (Banaadir) |   1 |  NA | 226 | <!----> | NA |\n",
       "|  100 |  3 | M | 1977-04-06 | 1977-04-20 | Bada     | Baidoa  | Bay                  |  30 |  NA | 220 | <!----> | NA |\n",
       "| 1000 | 13 | F | 1977-05-15 | 1977-05-27 | Warmalin | Baidoa  | Bay                  | 308 | 137 | 160 | <!----> | NA |\n",
       "| 1001 |  5 | F | 1977-05-24 | 1977-05-28 | Madabey  | Wajid   | Bakool               | 309 |  38 | 160 | <!----> | NA |\n",
       "\n"
      ],
      "text/plain": [
       "  Nat.case.ser.no Age Sex Date.onset.rash Date.detected Village  District\n",
       "1   NA             6  F   1977-09-02      1977-09-28    Agalsar  Koryole \n",
       "2    1            70  F   1976-08-30      NA                             \n",
       "3   10             6  F   1976-10-12      NA                             \n",
       "4  100             3  M   1977-04-06      1977-04-20    Bada     Baidoa  \n",
       "5 1000            13  F   1977-05-15      1977-05-27    Warmalin Baidoa  \n",
       "6 1001             5  F   1977-05-24      1977-05-28    Madabey  Wajid   \n",
       "  Region               National.outbreak.Number Reg.outbreak.no Adobe.page.ref\n",
       "1 Lower Shabelle        NA                       76               6           \n",
       "2 Mogadishu (Banaadir)   1                       NA             226           \n",
       "3 Mogadishu (Banaadir)   1                       NA             226           \n",
       "4 Bay                   30                       NA             220           \n",
       "5 Bay                  308                      137             160           \n",
       "6 Bakool               309                       38             160           \n",
       "  Comment Corresponding.Outbreak.Info.page.number\n",
       "1         NA                                     \n",
       "2         NA                                     \n",
       "3         NA                                     \n",
       "4         NA                                     \n",
       "5         NA                                     \n",
       "6         NA                                     "
      ]
     },
     "metadata": {},
     "output_type": "display_data"
    }
   ],
   "source": [
    "# setwd(\"ORIGINAL PATH REMOVED\")\n",
    "dat <- read.csv(file='somalia_all_data.csv', header=TRUE, stringsAsFactors=FALSE)\n",
    "\n",
    "# if Somalia database has been changed and csv resaved, run date_converter.R \n",
    "#write.csv(dat, file='somalia_line_listing_TOCHECK.csv', na='NA', row.names=FALSE)\n",
    "\n",
    "colnames(dat)[1] <- 'Nat.case.ser.no'\n",
    "head(dat)"
   ]
  },
  {
   "cell_type": "code",
   "execution_count": 3,
   "metadata": {
    "vscode": {
     "languageId": "r"
    }
   },
   "outputs": [
    {
     "data": {
      "text/html": [
       "<span style=white-space:pre-wrap>'Number of case numbers is equal to number of unique case numbers: TRUE  '</span>"
      ],
      "text/latex": [
       "'Number of case numbers is equal to number of unique case numbers: TRUE  '"
      ],
      "text/markdown": [
       "<span style=white-space:pre-wrap>'Number of case numbers is equal to number of unique case numbers: TRUE  '</span>"
      ],
      "text/plain": [
       "[1] \"Number of case numbers is equal to number of unique case numbers: TRUE  \""
      ]
     },
     "metadata": {},
     "output_type": "display_data"
    },
    {
     "data": {
      "text/html": [
       "TRUE"
      ],
      "text/latex": [
       "TRUE"
      ],
      "text/markdown": [
       "TRUE"
      ],
      "text/plain": [
       "[1] TRUE"
      ]
     },
     "metadata": {},
     "output_type": "display_data"
    }
   ],
   "source": [
    "# have previously checked all entries where date detected preceeds date onset\n",
    "\n",
    "# check for unique nat case \n",
    "paste('Number of case numbers is equal to number of unique case numbers:', length(dat$Nat.case.ser.no) == length(unique(dat$Nat.case.ser.no)), ' ')\n",
    "nat_count <- data.frame(table(dat$Nat.case.ser.no))\n",
    "nat_notunique <- nat_count[nat_count[,2]>1,]\n",
    "dim(nat_notunique)[1] == 0\n",
    "### ### ### 11/11/19 31 duplicates \n",
    "# duplication of 2100s???\n",
    "### ### ### 25/11/19 27 duplicates\n",
    "### ### ### 28/11/19 17 duplicates"
   ]
  },
  {
   "cell_type": "code",
   "execution_count": 4,
   "metadata": {
    "vscode": {
     "languageId": "r"
    }
   },
   "outputs": [
    {
     "data": {
      "text/html": [
       "TRUE"
      ],
      "text/latex": [
       "TRUE"
      ],
      "text/markdown": [
       "TRUE"
      ],
      "text/plain": [
       "[1] TRUE"
      ]
     },
     "metadata": {},
     "output_type": "display_data"
    }
   ],
   "source": [
    "# check for max label\n",
    "max(dat$Nat.case.ser.no,na.rm=TRUE) == 3257\n",
    "\n",
    "### ### ### 26/11/19 \n",
    "# max label check: 2 exceeded max case number of 3257\n",
    "\n",
    "### ### ### 28/11/19\n",
    "# 1799 duplicated - mismatch between district, nat outbreak no, reg outbreak no and page no - deleted entry which didn't match line list"
   ]
  },
  {
   "cell_type": "code",
   "execution_count": 5,
   "metadata": {
    "vscode": {
     "languageId": "r"
    }
   },
   "outputs": [
    {
     "data": {
      "text/html": [
       "TRUE"
      ],
      "text/latex": [
       "TRUE"
      ],
      "text/markdown": [
       "TRUE"
      ],
      "text/plain": [
       "[1] TRUE"
      ]
     },
     "metadata": {},
     "output_type": "display_data"
    }
   ],
   "source": [
    "# check for missing numbers between 1-3257\n",
    "missing_case_numbers = setdiff(1:3257, dat$Nat.case.ser.no)\n",
    "### ### ### 26/11/19\n",
    "# two unnumbered entries on page 6\n",
    "# 151 empty line on page 217\n",
    "# 1353 not on line card\n",
    "# 1913 empty except 25w in date detected column\n",
    "# 2172 not on line card\n",
    "# 3227 and 3228 do not appear on the line card - there are two un-labelled entries between 3226 and 3229, \n",
    "# but 3228 is on outbreak card (page 234)\n",
    "# case 237 is not smallpox\n",
    "\n",
    "# where there are inconcistencies between line list and outbreak, line list has been used\n",
    "\n",
    "# missing case numbers in setdiff are the same as the known missing case numbers\n",
    "all(missing_case_numbers == c(151, 1353, 1913, 2172, 3227))"
   ]
  },
  {
   "cell_type": "code",
   "execution_count": 6,
   "metadata": {
    "vscode": {
     "languageId": "r"
    }
   },
   "outputs": [
    {
     "data": {
      "text/html": [
       "TRUE"
      ],
      "text/latex": [
       "TRUE"
      ],
      "text/markdown": [
       "TRUE"
      ],
      "text/plain": [
       "[1] TRUE"
      ]
     },
     "metadata": {},
     "output_type": "display_data"
    }
   ],
   "source": [
    "# check expected number of entries matches actual number \n",
    "max_case <- 3257\n",
    "duplicates <- 0\n",
    "unlabeled <- 1\n",
    "missing_entries <- 5\n",
    "max_case - missing_entries + unlabeled == 3253"
   ]
  },
  {
   "cell_type": "code",
   "execution_count": 7,
   "metadata": {
    "vscode": {
     "languageId": "r"
    }
   },
   "outputs": [
    {
     "data": {
      "text/html": [
       "TRUE"
      ],
      "text/latex": [
       "TRUE"
      ],
      "text/markdown": [
       "TRUE"
      ],
      "text/plain": [
       "[1] TRUE"
      ]
     },
     "metadata": {},
     "output_type": "display_data"
    }
   ],
   "source": [
    "# check that district-region combos are the same\n",
    "\n",
    "# check that each district appears with the same region\n",
    "district_region <- unique(dat[7:8])\n",
    "#district_region\n",
    "\n",
    "all(district_region[duplicated(district_region$District),'District'] == '')\n",
    "# don't care about ''\n",
    "### ### ### 28/11/19 'Luk' appears in Bay (1 entry) and Gedo - fixed"
   ]
  },
  {
   "cell_type": "code",
   "execution_count": 8,
   "metadata": {
    "vscode": {
     "languageId": "r"
    }
   },
   "outputs": [
    {
     "data": {
      "text/html": [
       "TRUE"
      ],
      "text/latex": [
       "TRUE"
      ],
      "text/markdown": [
       "TRUE"
      ],
      "text/plain": [
       "[1] TRUE"
      ]
     },
     "metadata": {},
     "output_type": "display_data"
    }
   ],
   "source": [
    "# check that each villiage appeas with the same district\n",
    "village_district <- unique(dat[6:7])\n",
    "all(village_district[duplicated(village_district$Village), 'Village'] == '')"
   ]
  },
  {
   "cell_type": "code",
   "execution_count": 9,
   "metadata": {
    "vscode": {
     "languageId": "r"
    }
   },
   "outputs": [],
   "source": [
    "# randomly select 10% to check \n",
    "lines = nrow(dat)"
   ]
  },
  {
   "cell_type": "code",
   "execution_count": 10,
   "metadata": {
    "vscode": {
     "languageId": "r"
    }
   },
   "outputs": [],
   "source": [
    "#set.seed(6)\n",
    "#sample_to_check = dat[sample(lines, ceiling(0.1*lines)),]\n",
    "\n",
    "#write.csv(sample_to_check, 'sample_lines_to_check.csv')\n",
    "# sample_lines_beforecheck_forcomparisontoupdated.csv  is prechecked 10% csv for comparison of \n",
    "# percentage errors\n",
    "# full_data_beforecheck_forcomparisontoupdated.csv is prechecked full data for comparison"
   ]
  },
  {
   "cell_type": "code",
   "execution_count": 11,
   "metadata": {
    "vscode": {
     "languageId": "r"
    }
   },
   "outputs": [],
   "source": [
    "# Percentages of change\n",
    "sample_precheck <- read.csv(file='sample_lines_beforecheck_forcomparisontoupdated.csv', header=TRUE, stringsAsFactors=FALSE, row.names=1)\n",
    "full_precheck <- read.csv(file='full_data_beforecheck_forcomparisontoupdated.csv', header=TRUE, stringsAsFactors=FALSE, row.names=1)"
   ]
  },
  {
   "cell_type": "code",
   "execution_count": 23,
   "metadata": {
    "vscode": {
     "languageId": "r"
    }
   },
   "outputs": [
    {
     "data": {
      "text/html": [
       "<table>\n",
       "<caption>A data.frame: 6 × 13</caption>\n",
       "<thead>\n",
       "\t<tr><th></th><th scope=col>Nat.case.ser.no</th><th scope=col>Age</th><th scope=col>Sex</th><th scope=col>Date.onset.rash</th><th scope=col>Date.detected</th><th scope=col>Village</th><th scope=col>District</th><th scope=col>Region</th><th scope=col>National.outbreak.Number</th><th scope=col>Reg.outbreak.no</th><th scope=col>Adobe.page.ref</th><th scope=col>Comment</th><th scope=col>Corresponding.Outbreak.Info.page.number</th></tr>\n",
       "\t<tr><th></th><th scope=col>&lt;int&gt;</th><th scope=col>&lt;int&gt;</th><th scope=col>&lt;chr&gt;</th><th scope=col>&lt;chr&gt;</th><th scope=col>&lt;chr&gt;</th><th scope=col>&lt;chr&gt;</th><th scope=col>&lt;chr&gt;</th><th scope=col>&lt;chr&gt;</th><th scope=col>&lt;int&gt;</th><th scope=col>&lt;int&gt;</th><th scope=col>&lt;int&gt;</th><th scope=col>&lt;chr&gt;</th><th scope=col>&lt;int&gt;</th></tr>\n",
       "</thead>\n",
       "<tbody>\n",
       "\t<tr><th scope=row>2869</th><td> 652</td><td>14</td><td>M</td><td>1977-04-01</td><td>1977-05-25</td><td>Duboy      </td><td>Kansadere</td><td>Bay   </td><td>199</td><td>78</td><td>183</td><td></td><td>NA</td></tr>\n",
       "\t<tr><th scope=row>10</th><td>1004</td><td>70</td><td>M</td><td>1977-05-25</td><td>1977-05-31</td><td>Gubey      </td><td>Wajid    </td><td>Bakool</td><td>308</td><td>39</td><td>160</td><td></td><td>NA</td></tr>\n",
       "\t<tr><th scope=row>941</th><td>1845</td><td>22</td><td>M</td><td>1977-04-09</td><td>1977-06-19</td><td>Bilakey (2)</td><td>Wajid    </td><td>Bakool</td><td>547</td><td>20</td><td>100</td><td></td><td>NA</td></tr>\n",
       "\t<tr><th scope=row>334</th><td>1297</td><td> 3</td><td>M</td><td>1977-04-15</td><td>1977-06-13</td><td>Mundul Jall</td><td>Bardere  </td><td>Gedo  </td><td> NA</td><td> 7</td><td>140</td><td></td><td>NA</td></tr>\n",
       "\t<tr><th scope=row>2660</th><td> 464</td><td>48</td><td>F</td><td>1977-05-08</td><td>1977-05-09</td><td>Warurie    </td><td>Baidoa   </td><td>Bay   </td><td> 73</td><td>31</td><td>196</td><td></td><td>NA</td></tr>\n",
       "\t<tr><th scope=row>1340</th><td>2205</td><td>NA</td><td> </td><td>NA        </td><td>NA        </td><td>Mora Garad </td><td>Huddum   </td><td>Bakool</td><td> NA</td><td>NA</td><td> 75</td><td></td><td>NA</td></tr>\n",
       "</tbody>\n",
       "</table>\n"
      ],
      "text/latex": [
       "A data.frame: 6 × 13\n",
       "\\begin{tabular}{r|lllllllllllll}\n",
       "  & Nat.case.ser.no & Age & Sex & Date.onset.rash & Date.detected & Village & District & Region & National.outbreak.Number & Reg.outbreak.no & Adobe.page.ref & Comment & Corresponding.Outbreak.Info.page.number\\\\\n",
       "  & <int> & <int> & <chr> & <chr> & <chr> & <chr> & <chr> & <chr> & <int> & <int> & <int> & <chr> & <int>\\\\\n",
       "\\hline\n",
       "\t2869 &  652 & 14 & M & 1977-04-01 & 1977-05-25 & Duboy       & Kansadere & Bay    & 199 & 78 & 183 &  & NA\\\\\n",
       "\t10 & 1004 & 70 & M & 1977-05-25 & 1977-05-31 & Gubey       & Wajid     & Bakool & 308 & 39 & 160 &  & NA\\\\\n",
       "\t941 & 1845 & 22 & M & 1977-04-09 & 1977-06-19 & Bilakey (2) & Wajid     & Bakool & 547 & 20 & 100 &  & NA\\\\\n",
       "\t334 & 1297 &  3 & M & 1977-04-15 & 1977-06-13 & Mundul Jall & Bardere   & Gedo   &  NA &  7 & 140 &  & NA\\\\\n",
       "\t2660 &  464 & 48 & F & 1977-05-08 & 1977-05-09 & Warurie     & Baidoa    & Bay    &  73 & 31 & 196 &  & NA\\\\\n",
       "\t1340 & 2205 & NA &   & NA         & NA         & Mora Garad  & Huddum    & Bakool &  NA & NA &  75 &  & NA\\\\\n",
       "\\end{tabular}\n"
      ],
      "text/markdown": [
       "\n",
       "A data.frame: 6 × 13\n",
       "\n",
       "| <!--/--> | Nat.case.ser.no &lt;int&gt; | Age &lt;int&gt; | Sex &lt;chr&gt; | Date.onset.rash &lt;chr&gt; | Date.detected &lt;chr&gt; | Village &lt;chr&gt; | District &lt;chr&gt; | Region &lt;chr&gt; | National.outbreak.Number &lt;int&gt; | Reg.outbreak.no &lt;int&gt; | Adobe.page.ref &lt;int&gt; | Comment &lt;chr&gt; | Corresponding.Outbreak.Info.page.number &lt;int&gt; |\n",
       "|---|---|---|---|---|---|---|---|---|---|---|---|---|---|\n",
       "| 2869 |  652 | 14 | M | 1977-04-01 | 1977-05-25 | Duboy       | Kansadere | Bay    | 199 | 78 | 183 | <!----> | NA |\n",
       "| 10 | 1004 | 70 | M | 1977-05-25 | 1977-05-31 | Gubey       | Wajid     | Bakool | 308 | 39 | 160 | <!----> | NA |\n",
       "| 941 | 1845 | 22 | M | 1977-04-09 | 1977-06-19 | Bilakey (2) | Wajid     | Bakool | 547 | 20 | 100 | <!----> | NA |\n",
       "| 334 | 1297 |  3 | M | 1977-04-15 | 1977-06-13 | Mundul Jall | Bardere   | Gedo   |  NA |  7 | 140 | <!----> | NA |\n",
       "| 2660 |  464 | 48 | F | 1977-05-08 | 1977-05-09 | Warurie     | Baidoa    | Bay    |  73 | 31 | 196 | <!----> | NA |\n",
       "| 1340 | 2205 | NA | <!----> | NA         | NA         | Mora Garad  | Huddum    | Bakool |  NA | NA |  75 | <!----> | NA |\n",
       "\n"
      ],
      "text/plain": [
       "     Nat.case.ser.no Age Sex Date.onset.rash Date.detected Village    \n",
       "2869  652            14  M   1977-04-01      1977-05-25    Duboy      \n",
       "10   1004            70  M   1977-05-25      1977-05-31    Gubey      \n",
       "941  1845            22  M   1977-04-09      1977-06-19    Bilakey (2)\n",
       "334  1297             3  M   1977-04-15      1977-06-13    Mundul Jall\n",
       "2660  464            48  F   1977-05-08      1977-05-09    Warurie    \n",
       "1340 2205            NA      NA              NA            Mora Garad \n",
       "     District  Region National.outbreak.Number Reg.outbreak.no Adobe.page.ref\n",
       "2869 Kansadere Bay    199                      78              183           \n",
       "10   Wajid     Bakool 308                      39              160           \n",
       "941  Wajid     Bakool 547                      20              100           \n",
       "334  Bardere   Gedo    NA                       7              140           \n",
       "2660 Baidoa    Bay     73                      31              196           \n",
       "1340 Huddum    Bakool  NA                      NA               75           \n",
       "     Comment Corresponding.Outbreak.Info.page.number\n",
       "2869         NA                                     \n",
       "10           NA                                     \n",
       "941          NA                                     \n",
       "334          NA                                     \n",
       "2660         NA                                     \n",
       "1340         NA                                     "
      ]
     },
     "metadata": {},
     "output_type": "display_data"
    },
    {
     "data": {
      "text/html": [
       "<table>\n",
       "<caption>A data.frame: 6 × 13</caption>\n",
       "<thead>\n",
       "\t<tr><th></th><th scope=col>Nat.case.ser.no</th><th scope=col>Age</th><th scope=col>Sex</th><th scope=col>Date.onset.rash</th><th scope=col>Date.detected</th><th scope=col>Village</th><th scope=col>District</th><th scope=col>Region</th><th scope=col>National.outbreak.Number</th><th scope=col>Reg.outbreak.no</th><th scope=col>Adobe.page.ref</th><th scope=col>Comment</th><th scope=col>Corresponding.Outbreak.Info.page.number</th></tr>\n",
       "\t<tr><th></th><th scope=col>&lt;int&gt;</th><th scope=col>&lt;int&gt;</th><th scope=col>&lt;chr&gt;</th><th scope=col>&lt;chr&gt;</th><th scope=col>&lt;chr&gt;</th><th scope=col>&lt;chr&gt;</th><th scope=col>&lt;chr&gt;</th><th scope=col>&lt;chr&gt;</th><th scope=col>&lt;int&gt;</th><th scope=col>&lt;int&gt;</th><th scope=col>&lt;int&gt;</th><th scope=col>&lt;chr&gt;</th><th scope=col>&lt;int&gt;</th></tr>\n",
       "</thead>\n",
       "<tbody>\n",
       "\t<tr><th scope=row>2869</th><td> 652</td><td>14</td><td>M</td><td>1977-04-01</td><td>1977-05-25</td><td>Duboy      </td><td>Kansadere</td><td>Bay   </td><td>199</td><td>78</td><td>183</td><td></td><td>NA</td></tr>\n",
       "\t<tr><th scope=row>9</th><td>1004</td><td>70</td><td>M</td><td>1977-05-25</td><td>1977-05-31</td><td>Gubey      </td><td>Wajid    </td><td>Bakool</td><td>310</td><td>39</td><td>160</td><td></td><td>NA</td></tr>\n",
       "\t<tr><th scope=row>940</th><td>1845</td><td> 2</td><td>M</td><td>1977-04-19</td><td>1977-06-19</td><td>Bilakey (2)</td><td>Wajid    </td><td>Bakool</td><td>547</td><td>20</td><td>100</td><td></td><td>NA</td></tr>\n",
       "\t<tr><th scope=row>333</th><td>1297</td><td> 3</td><td>M</td><td>1977-04-15</td><td>1977-06-13</td><td>Mundul Jall</td><td>Bardere  </td><td>Gedo  </td><td> NA</td><td> 7</td><td>140</td><td></td><td>NA</td></tr>\n",
       "\t<tr><th scope=row>2660</th><td> 464</td><td>48</td><td>F</td><td>1977-05-08</td><td>1977-05-09</td><td>Warurie    </td><td>Baidoa   </td><td>Bay   </td><td> 73</td><td>31</td><td>196</td><td></td><td>NA</td></tr>\n",
       "\t<tr><th scope=row>1339</th><td>2205</td><td>NA</td><td> </td><td>NA        </td><td>NA        </td><td>Mora Garad </td><td>Huddum   </td><td>Bakool</td><td>230</td><td>NA</td><td> 75</td><td></td><td>NA</td></tr>\n",
       "</tbody>\n",
       "</table>\n"
      ],
      "text/latex": [
       "A data.frame: 6 × 13\n",
       "\\begin{tabular}{r|lllllllllllll}\n",
       "  & Nat.case.ser.no & Age & Sex & Date.onset.rash & Date.detected & Village & District & Region & National.outbreak.Number & Reg.outbreak.no & Adobe.page.ref & Comment & Corresponding.Outbreak.Info.page.number\\\\\n",
       "  & <int> & <int> & <chr> & <chr> & <chr> & <chr> & <chr> & <chr> & <int> & <int> & <int> & <chr> & <int>\\\\\n",
       "\\hline\n",
       "\t2869 &  652 & 14 & M & 1977-04-01 & 1977-05-25 & Duboy       & Kansadere & Bay    & 199 & 78 & 183 &  & NA\\\\\n",
       "\t9 & 1004 & 70 & M & 1977-05-25 & 1977-05-31 & Gubey       & Wajid     & Bakool & 310 & 39 & 160 &  & NA\\\\\n",
       "\t940 & 1845 &  2 & M & 1977-04-19 & 1977-06-19 & Bilakey (2) & Wajid     & Bakool & 547 & 20 & 100 &  & NA\\\\\n",
       "\t333 & 1297 &  3 & M & 1977-04-15 & 1977-06-13 & Mundul Jall & Bardere   & Gedo   &  NA &  7 & 140 &  & NA\\\\\n",
       "\t2660 &  464 & 48 & F & 1977-05-08 & 1977-05-09 & Warurie     & Baidoa    & Bay    &  73 & 31 & 196 &  & NA\\\\\n",
       "\t1339 & 2205 & NA &   & NA         & NA         & Mora Garad  & Huddum    & Bakool & 230 & NA &  75 &  & NA\\\\\n",
       "\\end{tabular}\n"
      ],
      "text/markdown": [
       "\n",
       "A data.frame: 6 × 13\n",
       "\n",
       "| <!--/--> | Nat.case.ser.no &lt;int&gt; | Age &lt;int&gt; | Sex &lt;chr&gt; | Date.onset.rash &lt;chr&gt; | Date.detected &lt;chr&gt; | Village &lt;chr&gt; | District &lt;chr&gt; | Region &lt;chr&gt; | National.outbreak.Number &lt;int&gt; | Reg.outbreak.no &lt;int&gt; | Adobe.page.ref &lt;int&gt; | Comment &lt;chr&gt; | Corresponding.Outbreak.Info.page.number &lt;int&gt; |\n",
       "|---|---|---|---|---|---|---|---|---|---|---|---|---|---|\n",
       "| 2869 |  652 | 14 | M | 1977-04-01 | 1977-05-25 | Duboy       | Kansadere | Bay    | 199 | 78 | 183 | <!----> | NA |\n",
       "| 9 | 1004 | 70 | M | 1977-05-25 | 1977-05-31 | Gubey       | Wajid     | Bakool | 310 | 39 | 160 | <!----> | NA |\n",
       "| 940 | 1845 |  2 | M | 1977-04-19 | 1977-06-19 | Bilakey (2) | Wajid     | Bakool | 547 | 20 | 100 | <!----> | NA |\n",
       "| 333 | 1297 |  3 | M | 1977-04-15 | 1977-06-13 | Mundul Jall | Bardere   | Gedo   |  NA |  7 | 140 | <!----> | NA |\n",
       "| 2660 |  464 | 48 | F | 1977-05-08 | 1977-05-09 | Warurie     | Baidoa    | Bay    |  73 | 31 | 196 | <!----> | NA |\n",
       "| 1339 | 2205 | NA | <!----> | NA         | NA         | Mora Garad  | Huddum    | Bakool | 230 | NA |  75 | <!----> | NA |\n",
       "\n"
      ],
      "text/plain": [
       "     Nat.case.ser.no Age Sex Date.onset.rash Date.detected Village    \n",
       "2869  652            14  M   1977-04-01      1977-05-25    Duboy      \n",
       "9    1004            70  M   1977-05-25      1977-05-31    Gubey      \n",
       "940  1845             2  M   1977-04-19      1977-06-19    Bilakey (2)\n",
       "333  1297             3  M   1977-04-15      1977-06-13    Mundul Jall\n",
       "2660  464            48  F   1977-05-08      1977-05-09    Warurie    \n",
       "1339 2205            NA      NA              NA            Mora Garad \n",
       "     District  Region National.outbreak.Number Reg.outbreak.no Adobe.page.ref\n",
       "2869 Kansadere Bay    199                      78              183           \n",
       "9    Wajid     Bakool 310                      39              160           \n",
       "940  Wajid     Bakool 547                      20              100           \n",
       "333  Bardere   Gedo    NA                       7              140           \n",
       "2660 Baidoa    Bay     73                      31              196           \n",
       "1339 Huddum    Bakool 230                      NA               75           \n",
       "     Comment Corresponding.Outbreak.Info.page.number\n",
       "2869         NA                                     \n",
       "9            NA                                     \n",
       "940          NA                                     \n",
       "333          NA                                     \n",
       "2660         NA                                     \n",
       "1339         NA                                     "
      ]
     },
     "metadata": {},
     "output_type": "display_data"
    }
   ],
   "source": [
    "#sample_caseno <- sample_precheck$Nat.case.ser.no\n",
    "sample_checked <- dat[dat$Nat.case.ser.no %in% sample_precheck$Nat.case.ser.no,]\n",
    "sample_checked <- sample_checked[match(sample_precheck$Nat.case.ser.no, sample_checked$Nat.case.ser.no),]\n",
    "#sample_checked$Nat.case.ser.no %in% sample_precheck$Nat.case.ser.no\n",
    "\n",
    "head(sample_precheck)\n",
    "head(sample_checked)"
   ]
  },
  {
   "cell_type": "code",
   "execution_count": 27,
   "metadata": {
    "vscode": {
     "languageId": "r"
    }
   },
   "outputs": [
    {
     "data": {
      "text/plain": [
       "sample_compare\n",
       "FALSE  TRUE \n",
       "   56  3677 "
      ]
     },
     "metadata": {},
     "output_type": "display_data"
    }
   ],
   "source": [
    "sample_compare <- sample_precheck==sample_checked\n",
    "\n",
    "# how are na's counted\n",
    "# how many lines have an error\n",
    "# how many errors in total\n",
    "table(sample_compare)\n",
    "# how many errors in each column\n"
   ]
  },
  {
   "cell_type": "code",
   "execution_count": 29,
   "metadata": {
    "vscode": {
     "languageId": "r"
    }
   },
   "outputs": [
    {
     "data": {
      "text/html": [
       "168"
      ],
      "text/latex": [
       "168"
      ],
      "text/markdown": [
       "168"
      ],
      "text/plain": [
       "[1] 168"
      ]
     },
     "metadata": {},
     "output_type": "display_data"
    }
   ],
   "source": [
    "length(unique(sample_precheck$Adobe.page.ref))"
   ]
  },
  {
   "cell_type": "code",
   "execution_count": 34,
   "metadata": {
    "vscode": {
     "languageId": "r"
    }
   },
   "outputs": [
    {
     "data": {
      "text/html": [
       "FALSE"
      ],
      "text/latex": [
       "FALSE"
      ],
      "text/markdown": [
       "FALSE"
      ],
      "text/plain": [
       "[1] FALSE"
      ]
     },
     "metadata": {},
     "output_type": "display_data"
    }
   ],
   "source": [
    "identical(sample_precheck, sample_checked)"
   ]
  },
  {
   "cell_type": "code",
   "execution_count": 35,
   "metadata": {
    "vscode": {
     "languageId": "r"
    }
   },
   "outputs": [
    {
     "data": {
      "text/html": [
       "0.0152298069078053"
      ],
      "text/latex": [
       "0.0152298069078053"
      ],
      "text/markdown": [
       "0.0152298069078053"
      ],
      "text/plain": [
       "[1] 0.01522981"
      ]
     },
     "metadata": {},
     "output_type": "display_data"
    }
   ],
   "source": [
    "56/3677"
   ]
  },
  {
   "cell_type": "code",
   "execution_count": 41,
   "metadata": {
    "vscode": {
     "languageId": "r"
    }
   },
   "outputs": [],
   "source": [
    "# generate 10% for Joe to check \n",
    "# 326 lines from the remaining 90% of dat\n",
    "#index_first10pc <- which(dat$Nat.case.ser.no %in% sample_precheck$Nat.case.ser.no)\n",
    "#remainder <- dat[-index_first10pc,]"
   ]
  },
  {
   "cell_type": "code",
   "execution_count": null,
   "metadata": {
    "vscode": {
     "languageId": "r"
    }
   },
   "outputs": [],
   "source": [
    "# select 10% for Reviewer to check, and save\n",
    "#set.seed(46656)\n",
    "#sample_reviewer_to_check = remainder[sample(nrow(remainder), 326),]\n",
    "\n",
    "#write.csv(sample_reviewer_to_check, 'sample_lines_reviewer_to_check.csv')"
   ]
  },
  {
   "cell_type": "markdown",
   "metadata": {},
   "source": [
    "## Percentage error for 2 * 10% checks (reviewers 1 and 2)\n",
    "see Error_calcs notebook"
   ]
  }
 ],
 "metadata": {
  "kernelspec": {
   "display_name": "R",
   "language": "R",
   "name": "ir"
  },
  "language_info": {
   "codemirror_mode": "r",
   "file_extension": ".r",
   "mimetype": "text/x-r-source",
   "name": "R",
   "pygments_lexer": "r",
   "version": "3.6.1"
  }
 },
 "nbformat": 4,
 "nbformat_minor": 2
}
